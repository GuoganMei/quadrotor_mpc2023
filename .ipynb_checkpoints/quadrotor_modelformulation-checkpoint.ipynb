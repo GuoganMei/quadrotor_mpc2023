{
 "cells": [
  {
   "cell_type": "code",
   "execution_count": 6,
   "metadata": {},
   "outputs": [],
   "source": [
    "from sympy import *\n",
    "from sympy.physics.vector import dynamicsymbols"
   ]
  },
  {
   "cell_type": "code",
   "execution_count": 7,
   "metadata": {},
   "outputs": [],
   "source": [
    "x,y,z=dynamicsymbols(r'x y z')\n",
    "phi,theta,psi=dynamicsymbols(r'\\phi \\theta \\psi')\n",
    "xdot,ydot,zdot=dynamicsymbols(r'\\dot{x} \\dot{y} \\dot{z}')\n",
    "phidot,thetadot,psidot=dynamicsymbols(r'\\dot{\\phi} \\dot{\\theta} \\dot{\\psi}')\n",
    "u1,u2,u3,u4=symbols(r'u_1 u_2 u_3 u_4')\n",
    "state=Matrix([x,y,z,phi,theta,psi,xdot,ydot,zdot,phidot,thetadot,psidot])\n",
    "u=Matrix([u1,u2,u3,u4])\n",
    "\n",
    "Ixx,Iyy,Izz=symbols(r'I_{xx} I_{yy} I_{zz}')\n",
    "k,l,m,b,g=symbols(r'k l m b g')\n",
    "Rz=Matrix([[cos(psi),-sin(psi),0],\\\n",
    "           [sin(psi),cos(psi),0],\\\n",
    "           [0,0,1]])\n",
    "Ry=Matrix([[cos(theta), 0, sin(theta)],\\\n",
    "           [0, 1, 0],\\\n",
    "           [-sin(theta), 0, cos(theta)]])\n",
    "Rx=Matrix([[1, 0, 0],\\\n",
    "          [0, cos(phi), -sin(phi)],\\\n",
    "          [0, sin(phi), cos(phi)],])\n",
    "\n",
    "R=Rx*Ry*Rz;\n",
    "W=Matrix([[cos(theta)*cos(psi),sin(psi),0],\\\n",
    "          [-cos(theta)*sin(psi),cos(psi),0],\\\n",
    "          [sin(theta),0,1]])\n",
    "I=Matrix([[Ixx,0,0],[0,Iyy,0],[0,0,Izz]])\n",
    "\n",
    "J=W.T*I*W\n",
    "\n",
    "J_inv=W**(-1)*I**(-1)*(W.T)**(-1)#J的逆\n",
    "dJ_dt=diff(J,Symbol('t'))#J关于时间的导数\n",
    "C=dJ_dt#整个科里奥利力项\n",
    "\n",
    "tau_beta=Matrix([l*k*(-u2 + u4),l*k*(-u1 + u3),b*(-u1+u2-u3+u4)])\n",
    "Thrust = k*(u1+u2+u3+u4);\n",
    "f_beta=Matrix([0,0,Thrust])\n",
    "\n",
    "G=Matrix([0,0,-g])\n",
    "\n",
    "rhs=Matrix([xdot,ydot,zdot,phidot,thetadot,psidot,G+R*f_beta/m,J_inv*(tau_beta-C*Matrix([phidot,thetadot,psidot]))])"
   ]
  },
  {
   "cell_type": "code",
   "execution_count": 8,
   "metadata": {},
   "outputs": [],
   "source": [
    "x_,y_,z_=symbols(r'x y z')\n",
    "phi_,theta_,psi_=symbols(r'\\phi \\theta \\psi')\n",
    "xdot_,ydot_,zdot_=symbols(r'\\dot{x} \\dot{y} \\dot{z}')\n",
    "phidot_,thetadot_,psidot_=symbols(r'\\dot{\\phi} \\dot{\\theta} \\dot{\\psi}')\n",
    "\n",
    "t=Symbol('t')\n",
    "rhs=rhs.subs([(diff(x,t),xdot),(diff(y,t),ydot),(diff(z,t),zdot),(diff(theta,t),thetadot),(diff(psi,t),psidot),(diff(phi,t),phidot)])\n",
    "rhs=rhs.subs([(x,x_),(y,y_),(z,z_),(phi,phi_),(theta,theta_),(psi,psi_),(xdot,xdot_),(ydot,ydot_),(zdot,zdot_),(phidot,phidot_),(thetadot,thetadot_),(psidot,psidot_)])"
   ]
  },
  {
   "cell_type": "code",
   "execution_count": 10,
   "metadata": {},
   "outputs": [],
   "source": [
    "state_=state.subs([(x,x_),(y,y_),(z,z_),(phi,phi_),(theta,theta_),(psi,psi_),(xdot,xdot_),\\\n",
    "                   (ydot,ydot_),(zdot,zdot_),(phidot,phidot_),(thetadot,thetadot_),(psidot,psidot_)])\n",
    "A = rhs.jacobian(state_).subs([(x_,0),(y_,0),(z_,0),(phi_,0),(theta_,0),(psi_,0),(xdot_,0),\\\n",
    "                                (ydot_,0),(zdot_,0),(phidot_,0),(thetadot_,0),(psidot_,0),\\\n",
    "                               (u1,m*g/k/4),(u2,m*g/k/4),(u3,m*g/k/4),(u4,m*g/k/4)])\n",
    "B = rhs.jacobian(u).subs([(x_,0),(y_,0),(z_,0),(phi_,0),(theta_,0),(psi_,0),(xdot_,0),\\\n",
    "                                (ydot_,0),(zdot_,0),(phidot_,0),(thetadot_,0),(psidot_,0),\\\n",
    "                               (u1,m*g/k/4),(u2,m*g/k/4),(u3,m*g/k/4),(u4,m*g/k/4)])"
   ]
  },
  {
   "cell_type": "code",
   "execution_count": 6,
   "metadata": {
    "scrolled": true
   },
   "outputs": [],
   "source": [
    "A=A.subs([(Ixx,1.2),(Iyy,1.2),(Izz,2.3),(k,1),(l,0.25),(m,2),(b,0.2),(g,9.81)])\n",
    "B=B.subs([(Ixx,1.2),(Iyy,1.2),(Izz,2.3),(k,1),(l,0.25),(m,2),(b,0.2),(g,9.81)])"
   ]
  },
  {
   "cell_type": "code",
   "execution_count": 7,
   "metadata": {},
   "outputs": [],
   "source": [
    "import numpy as np\n",
    "A_=np.array(A).astype(np.float64)\n",
    "B_=np.array(B).astype(np.float64)\n",
    "import scipy.io\n",
    "scipy.io.savemat('system.mat',{'B':B_,'A':A_})"
   ]
  },
  {
   "cell_type": "code",
   "execution_count": 14,
   "metadata": {},
   "outputs": [
    {
     "name": "stdout",
     "output_type": "stream",
     "text": [
      "\\left[\\begin{matrix}\\cos{\\left(\\psi \\right)} \\cos{\\left(\\theta \\right)} & \\sin{\\left(\\psi \\right)} & 0\\\\- \\sin{\\left(\\psi \\right)} \\cos{\\left(\\theta \\right)} & \\cos{\\left(\\psi \\right)} & 0\\\\\\sin{\\left(\\theta \\right)} & 0 & 1\\end{matrix}\\right]\n"
     ]
    }
   ],
   "source": []
  },
  {
   "cell_type": "code",
   "execution_count": null,
   "metadata": {},
   "outputs": [],
   "source": [
    "def myprint(expr)\n",
    "    print(latex(expr.subs([(x,x_),(y,y_),(z,z_),(phi,phi_),(theta,theta_),(psi,psi_),(xdot,xdot_),\\\n",
    "                   (ydot,ydot_),(zdot,zdot_),(phidot,phidot_),(thetadot,thetadot_),(psidot,psidot_)])))\n",
    "return"
   ]
  }
 ],
 "metadata": {
  "kernelspec": {
   "display_name": "Python 3",
   "language": "python",
   "name": "python3"
  },
  "language_info": {
   "codemirror_mode": {
    "name": "ipython",
    "version": 3
   },
   "file_extension": ".py",
   "mimetype": "text/x-python",
   "name": "python",
   "nbconvert_exporter": "python",
   "pygments_lexer": "ipython3",
   "version": "3.7.2"
  },
  "widgets": {
   "application/vnd.jupyter.widget-state+json": {
    "state": {},
    "version_major": 2,
    "version_minor": 0
   }
  }
 },
 "nbformat": 4,
 "nbformat_minor": 4
}
